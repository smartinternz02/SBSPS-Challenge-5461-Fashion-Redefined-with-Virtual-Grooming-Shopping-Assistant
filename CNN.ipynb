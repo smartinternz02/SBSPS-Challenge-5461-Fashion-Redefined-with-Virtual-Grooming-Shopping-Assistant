{
 "cells": [
  {
   "cell_type": "code",
   "execution_count": 38,
   "metadata": {},
   "outputs": [],
   "source": [
    "from tensorflow.keras.models import Sequential\n",
    "from tensorflow.keras.layers import Dense\n",
    "from tensorflow.keras.layers import Convolution2D\n",
    "from tensorflow.keras.layers import MaxPooling2D\n",
    "from tensorflow.keras.layers import Flatten\n",
    "from tensorflow.keras.preprocessing.image import ImageDataGenerator"
   ]
  },
  {
   "cell_type": "code",
   "execution_count": 39,
   "metadata": {},
   "outputs": [],
   "source": [
    "train_datagen =  ImageDataGenerator(rescale =1./255,shear_range =0.2,zoom_range = 0.2, horizontal_flip =True)\n",
    "test_datagen = ImageDataGenerator(rescale =1./255)"
   ]
  },
  {
   "cell_type": "code",
   "execution_count": 40,
   "metadata": {},
   "outputs": [
    {
     "name": "stdout",
     "output_type": "stream",
     "text": [
      "Found 1461 images belonging to 5 classes.\n",
      "Found 388 images belonging to 5 classes.\n"
     ]
    }
   ],
   "source": [
    "x_train = train_datagen.flow_from_directory(r\"E:\\fashion-dataset\\fashion-dataset\\trainset\",target_size = (64,64),batch_size = 32, class_mode = \"categorical\")\n",
    "x_test = test_datagen.flow_from_directory(r\"E:\\fashion-dataset\\fashion-dataset\\testset\",target_size = (64,64),batch_size = 32, class_mode = \"categorical\")"
   ]
  },
  {
   "cell_type": "code",
   "execution_count": 41,
   "metadata": {},
   "outputs": [
    {
     "data": {
      "text/plain": [
       "{'footwear': 0, 'menswear': 1, 'tshirt': 2, 'watch': 3, 'womenwear': 4}"
      ]
     },
     "execution_count": 41,
     "metadata": {},
     "output_type": "execute_result"
    }
   ],
   "source": [
    "x_train.class_indices"
   ]
  },
  {
   "cell_type": "code",
   "execution_count": 42,
   "metadata": {},
   "outputs": [],
   "source": [
    "\n",
    "model = Sequential()"
   ]
  },
  {
   "cell_type": "code",
   "execution_count": 43,
   "metadata": {},
   "outputs": [],
   "source": [
    "model.add(Convolution2D(32,(3,3),input_shape= (64,64,3),activation = \"relu\"))\n"
   ]
  },
  {
   "cell_type": "code",
   "execution_count": 44,
   "metadata": {},
   "outputs": [],
   "source": [
    "model.add(MaxPooling2D(pool_size = (2,2)))"
   ]
  },
  {
   "cell_type": "code",
   "execution_count": 45,
   "metadata": {},
   "outputs": [],
   "source": [
    "model.add(Flatten())\n"
   ]
  },
  {
   "cell_type": "code",
   "execution_count": 46,
   "metadata": {},
   "outputs": [],
   "source": [
    "model.add(Dense(units=128 ,kernel_initializer = \"random_uniform\",activation = \"relu\"))"
   ]
  },
  {
   "cell_type": "code",
   "execution_count": 47,
   "metadata": {},
   "outputs": [],
   "source": [
    "model.add(Dense(units=128 ,kernel_initializer = \"random_uniform\",activation = \"relu\"))"
   ]
  },
  {
   "cell_type": "code",
   "execution_count": 48,
   "metadata": {},
   "outputs": [],
   "source": [
    "model.add(Dense(units= 5,kernel_initializer = \"random_uniform\",activation = \"softmax\"))"
   ]
  },
  {
   "cell_type": "code",
   "execution_count": 49,
   "metadata": {},
   "outputs": [],
   "source": [
    "model.compile(loss = \"categorical_crossentropy\",optimizer = \"adam\",metrics = [\"accuracy\"]) #configuring the model"
   ]
  },
  {
   "cell_type": "code",
   "execution_count": 50,
   "metadata": {},
   "outputs": [
    {
     "name": "stderr",
     "output_type": "stream",
     "text": [
      "C:\\Users\\user\\Anaconda3\\lib\\site-packages\\tensorflow\\python\\keras\\engine\\training.py:1940: UserWarning: `Model.fit_generator` is deprecated and will be removed in a future version. Please use `Model.fit`, which supports generators.\n",
      "  warnings.warn('`Model.fit_generator` is deprecated and '\n"
     ]
    },
    {
     "name": "stdout",
     "output_type": "stream",
     "text": [
      "Epoch 1/25\n",
      "30/30 [==============================] - ETA: 0s - loss: 1.2188 - accuracy: 0.5240WARNING:tensorflow:Your input ran out of data; interrupting training. Make sure that your dataset or generator can generate at least `steps_per_epoch * epochs` batches (in this case, 20 batches). You may need to use the repeat() function when building your dataset.\n",
      "30/30 [==============================] - 130s 4s/step - loss: 1.2188 - accuracy: 0.5240 - val_loss: 1.0079 - val_accuracy: 0.5979\n",
      "Epoch 2/25\n",
      "30/30 [==============================] - 64s 2s/step - loss: 0.8185 - accuracy: 0.6646\n",
      "Epoch 3/25\n",
      "30/30 [==============================] - 63s 2s/step - loss: 0.6661 - accuracy: 0.7260\n",
      "Epoch 4/25\n",
      "30/30 [==============================] - 61s 2s/step - loss: 0.4972 - accuracy: 0.8124\n",
      "Epoch 5/25\n",
      "30/30 [==============================] - 68s 2s/step - loss: 0.4476 - accuracy: 0.8438\n",
      "Epoch 6/25\n",
      "30/30 [==============================] - 67s 2s/step - loss: 0.3661 - accuracy: 0.8830\n",
      "Epoch 7/25\n",
      "30/30 [==============================] - 61s 2s/step - loss: 0.3144 - accuracy: 0.8872\n",
      "Epoch 8/25\n",
      "30/30 [==============================] - 57s 2s/step - loss: 0.3177 - accuracy: 0.8883\n",
      "Epoch 9/25\n",
      "30/30 [==============================] - 62s 2s/step - loss: 0.2659 - accuracy: 0.8957\n",
      "Epoch 10/25\n",
      "30/30 [==============================] - 62s 2s/step - loss: 0.2649 - accuracy: 0.9052\n",
      "Epoch 11/25\n",
      "30/30 [==============================] - 60s 2s/step - loss: 0.2874 - accuracy: 0.8969\n",
      "Epoch 12/25\n",
      "30/30 [==============================] - 62s 2s/step - loss: 0.2373 - accuracy: 0.9083\n",
      "Epoch 13/25\n",
      "30/30 [==============================] - 56s 2s/step - loss: 0.2177 - accuracy: 0.9294\n",
      "Epoch 14/25\n",
      "30/30 [==============================] - 56s 2s/step - loss: 0.2097 - accuracy: 0.9336\n",
      "Epoch 15/25\n",
      "30/30 [==============================] - 56s 2s/step - loss: 0.1894 - accuracy: 0.9333\n",
      "Epoch 16/25\n",
      "30/30 [==============================] - 57s 2s/step - loss: 0.1587 - accuracy: 0.9463\n",
      "Epoch 17/25\n",
      "30/30 [==============================] - 56s 2s/step - loss: 0.1763 - accuracy: 0.9336\n",
      "Epoch 18/25\n",
      "30/30 [==============================] - 57s 2s/step - loss: 0.1639 - accuracy: 0.9448\n",
      "Epoch 19/25\n",
      "30/30 [==============================] - 57s 2s/step - loss: 0.1823 - accuracy: 0.9347\n",
      "Epoch 20/25\n",
      "30/30 [==============================] - 61s 2s/step - loss: 0.1657 - accuracy: 0.9389\n",
      "Epoch 21/25\n",
      "30/30 [==============================] - 57s 2s/step - loss: 0.1906 - accuracy: 0.9292\n",
      "Epoch 22/25\n",
      "30/30 [==============================] - 56s 2s/step - loss: 0.1345 - accuracy: 0.9494\n",
      "Epoch 23/25\n",
      "30/30 [==============================] - 57s 2s/step - loss: 0.1291 - accuracy: 0.9568\n",
      "Epoch 24/25\n",
      "30/30 [==============================] - 57s 2s/step - loss: 0.1494 - accuracy: 0.9431\n",
      "Epoch 25/25\n",
      "30/30 [==============================] - 56s 2s/step - loss: 0.1253 - accuracy: 0.9642\n"
     ]
    },
    {
     "data": {
      "text/plain": [
       "<tensorflow.python.keras.callbacks.History at 0x15cb496ddd8>"
      ]
     },
     "execution_count": 50,
     "metadata": {},
     "output_type": "execute_result"
    }
   ],
   "source": [
    "model.fit_generator(x_train, steps_per_epoch =30,epochs =25, validation_data=x_test,validation_steps=20)\n"
   ]
  },
  {
   "cell_type": "code",
   "execution_count": 52,
   "metadata": {},
   "outputs": [],
   "source": [
    "model.save(\"fashion.h5\")"
   ]
  },
  {
   "cell_type": "code",
   "execution_count": null,
   "metadata": {},
   "outputs": [],
   "source": []
  },
  {
   "cell_type": "code",
   "execution_count": null,
   "metadata": {},
   "outputs": [],
   "source": []
  },
  {
   "cell_type": "code",
   "execution_count": null,
   "metadata": {},
   "outputs": [],
   "source": []
  },
  {
   "cell_type": "code",
   "execution_count": null,
   "metadata": {},
   "outputs": [],
   "source": []
  },
  {
   "cell_type": "code",
   "execution_count": null,
   "metadata": {},
   "outputs": [],
   "source": []
  },
  {
   "cell_type": "code",
   "execution_count": null,
   "metadata": {},
   "outputs": [],
   "source": []
  },
  {
   "cell_type": "code",
   "execution_count": null,
   "metadata": {},
   "outputs": [],
   "source": []
  },
  {
   "cell_type": "code",
   "execution_count": null,
   "metadata": {},
   "outputs": [],
   "source": []
  },
  {
   "cell_type": "code",
   "execution_count": null,
   "metadata": {},
   "outputs": [],
   "source": []
  }
 ],
 "metadata": {
  "kernelspec": {
   "display_name": "Python 3",
   "language": "python",
   "name": "python3"
  },
  "language_info": {
   "codemirror_mode": {
    "name": "ipython",
    "version": 3
   },
   "file_extension": ".py",
   "mimetype": "text/x-python",
   "name": "python",
   "nbconvert_exporter": "python",
   "pygments_lexer": "ipython3",
   "version": "3.7.3"
  }
 },
 "nbformat": 4,
 "nbformat_minor": 2
}
